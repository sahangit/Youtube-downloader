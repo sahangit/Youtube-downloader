{
 "cells": [
  {
   "cell_type": "code",
   "execution_count": 11,
   "id": "86ac0a91",
   "metadata": {},
   "outputs": [],
   "source": [
    "from pytube import YouTube"
   ]
  },
  {
   "cell_type": "code",
   "execution_count": 12,
   "id": "76553430",
   "metadata": {},
   "outputs": [],
   "source": [
    "yt = YouTube('http://youtube.com/watch?v=2lAe1cqCOXo')"
   ]
  },
  {
   "cell_type": "code",
   "execution_count": 13,
   "id": "81f4fe29",
   "metadata": {},
   "outputs": [
    {
     "data": {
      "text/plain": [
       "'D:\\\\Documents Learning\\\\Other projects\\\\Jupyternotebooks\\\\YouTube Rewind 2019 For the Record  YouTubeRewind.mp4'"
      ]
     },
     "execution_count": 13,
     "metadata": {},
     "output_type": "execute_result"
    }
   ],
   "source": [
    "stream = yt.streams.get_by_itag(22)\n",
    "stream.download()"
   ]
  },
  {
   "cell_type": "code",
   "execution_count": null,
   "id": "c78c4001",
   "metadata": {},
   "outputs": [],
   "source": []
  }
 ],
 "metadata": {
  "kernelspec": {
   "display_name": "Python 3",
   "language": "python",
   "name": "python3"
  },
  "language_info": {
   "codemirror_mode": {
    "name": "ipython",
    "version": 3
   },
   "file_extension": ".py",
   "mimetype": "text/x-python",
   "name": "python",
   "nbconvert_exporter": "python",
   "pygments_lexer": "ipython3",
   "version": "3.8.8"
  }
 },
 "nbformat": 4,
 "nbformat_minor": 5
}
